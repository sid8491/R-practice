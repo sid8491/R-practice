{
 "cells": [
  {
   "cell_type": "markdown",
   "metadata": {},
   "source": [
    "#### Write a function named 'pollutantmean' that calculates the mean of a pollutant (sulfate or nitrate) across a specified list of monitors. The function 'pollutantmean' takes three arguments: 'directory', 'pollutant', and 'id'. Given a vector monitor ID numbers, 'pollutantmean' reads that monitors' particulate matter data from the directory specified in the 'directory' argument and returns the mean of the pollutant across all of the monitors, ignoring any missing values coded as NA. A prototype of the function is as follows"
   ]
  },
  {
   "cell_type": "code",
   "execution_count": 1,
   "metadata": {
    "collapsed": true
   },
   "outputs": [],
   "source": [
    "pollutantmean <- function(directory, pollutant, id = 1:332) {\n",
    "  # make file name 3 digits\n",
    "  id <- formatC(id, width = 3, flag = \"0\")\n",
    "  \n",
    "  #initialize data frame\n",
    "  all_data <- data.frame()\n",
    "  \n",
    "  #read data in all the files given in argument and adding to all_data row-wise\n",
    "  for (i in id) {\n",
    "    new_dir <- paste(getwd(), \"/\", directory, \"/\", i, \".csv\", sep = \"\")\n",
    "    all_data <- rbind(all_data, read.csv(new_dir))\n",
    "  }\n",
    "    \n",
    "  # to store mean  \n",
    "  mean_data <- \"\"\n",
    "  \n",
    "  if (pollutant == \"nitrate\") {\n",
    "    mean_data <- mean(all_data$nitrate, na.rm = TRUE)\n",
    "  } else {\n",
    "    mean_data <- mean(all_data$sulfate, na.rm = TRUE)\n",
    "  }\n",
    "  \n",
    "  print(formatC(mean_data, width = 4))\n",
    "\n",
    "}"
   ]
  },
  {
   "cell_type": "code",
   "execution_count": 9,
   "metadata": {
    "collapsed": false
   },
   "outputs": [
    {
     "name": "stdout",
     "output_type": "stream",
     "text": [
      "[1] \"4.064\"\n",
      "[1] \"1.706\"\n",
      "[1] \"1.281\"\n"
     ]
    }
   ],
   "source": [
    "pollutantmean(\"specdata\", \"sulfate\", 1:10)\n",
    "pollutantmean(\"specdata\", \"nitrate\", 70:72)\n",
    "pollutantmean(\"specdata\", \"nitrate\", 23)"
   ]
  },
  {
   "cell_type": "markdown",
   "metadata": {},
   "source": [
    "#### Write a function that reads a directory full of files and reports the number of completely observed cases in each data file. The function should return a data frame where the first column is the name of the file and the second column is the number of complete cases. A prototype of this function follows"
   ]
  },
  {
   "cell_type": "code",
   "execution_count": null,
   "metadata": {
    "collapsed": true
   },
   "outputs": [],
   "source": [
    "complete <- function(directory, id = 1:332) {\n",
    "  # make file name 3 digits\n",
    "  id <- formatC(id, width = 3, flag = \"0\")\n",
    "  \n",
    "  #initialize data frame\n",
    "  all_data <- data.frame()\n",
    "  \n",
    "  # reading all the files given in argument as id\n",
    "  for(i in id) {\n",
    "    new_dir <- paste(getwd(), \"/\", directory, \"/\", i, \".csv\", sep = \"\")\n",
    "    x <- read.csv(new_dir)\n",
    "    \n",
    "    # getting id\n",
    "    get_id <- unique(x$ID)\n",
    "    \n",
    "    # getting the number of rows with complete cases\n",
    "    x <- sum(complete.cases(x))\n",
    "    \n",
    "    #combining the data from all the files row wise\n",
    "    i_data <- data.frame(id = get_id, nobs = x)\n",
    "    all_data <- rbind(all_data, i_data)\n",
    "    \n",
    "  }\n",
    "  \n",
    "  all_data\n",
    "}"
   ]
  },
  {
   "cell_type": "code",
   "execution_count": 10,
   "metadata": {
    "collapsed": false
   },
   "outputs": [
    {
     "data": {
      "text/html": [
       "<table>\n",
       "<thead><tr><th></th><th scope=col>id</th><th scope=col>nobs</th></tr></thead>\n",
       "<tbody>\n",
       "\t<tr><th scope=row>1</th><td>1</td><td>117</td></tr>\n",
       "</tbody>\n",
       "</table>\n"
      ],
      "text/latex": [
       "\\begin{tabular}{r|ll}\n",
       "  & id & nobs\\\\\n",
       "\\hline\n",
       "\t1 & 1 & 117\\\\\n",
       "\\end{tabular}\n"
      ],
      "text/plain": [
       "  id nobs\n",
       "1  1  117"
      ]
     },
     "execution_count": 10,
     "metadata": {},
     "output_type": "execute_result"
    },
    {
     "data": {
      "text/html": [
       "<table>\n",
       "<thead><tr><th></th><th scope=col>id</th><th scope=col>nobs</th></tr></thead>\n",
       "<tbody>\n",
       "\t<tr><th scope=row>1</th><td>2</td><td>1041</td></tr>\n",
       "\t<tr><th scope=row>2</th><td>4</td><td>474</td></tr>\n",
       "\t<tr><th scope=row>3</th><td>8</td><td>192</td></tr>\n",
       "\t<tr><th scope=row>4</th><td>10</td><td>148</td></tr>\n",
       "\t<tr><th scope=row>5</th><td>12</td><td>96</td></tr>\n",
       "</tbody>\n",
       "</table>\n"
      ],
      "text/latex": [
       "\\begin{tabular}{r|ll}\n",
       "  & id & nobs\\\\\n",
       "\\hline\n",
       "\t1 & 2 & 1041\\\\\n",
       "\t2 & 4 & 474\\\\\n",
       "\t3 & 8 & 192\\\\\n",
       "\t4 & 10 & 148\\\\\n",
       "\t5 & 12 & 96\\\\\n",
       "\\end{tabular}\n"
      ],
      "text/plain": [
       "  id nobs\n",
       "1  2 1041\n",
       "2  4  474\n",
       "3  8  192\n",
       "4 10  148\n",
       "5 12   96"
      ]
     },
     "execution_count": 10,
     "metadata": {},
     "output_type": "execute_result"
    },
    {
     "data": {
      "text/html": [
       "<table>\n",
       "<thead><tr><th></th><th scope=col>id</th><th scope=col>nobs</th></tr></thead>\n",
       "<tbody>\n",
       "\t<tr><th scope=row>1</th><td>30</td><td>932</td></tr>\n",
       "\t<tr><th scope=row>2</th><td>29</td><td>711</td></tr>\n",
       "\t<tr><th scope=row>3</th><td>28</td><td>475</td></tr>\n",
       "\t<tr><th scope=row>4</th><td>27</td><td>338</td></tr>\n",
       "\t<tr><th scope=row>5</th><td>26</td><td>586</td></tr>\n",
       "\t<tr><th scope=row>6</th><td>25</td><td>463</td></tr>\n",
       "</tbody>\n",
       "</table>\n"
      ],
      "text/latex": [
       "\\begin{tabular}{r|ll}\n",
       "  & id & nobs\\\\\n",
       "\\hline\n",
       "\t1 & 30 & 932\\\\\n",
       "\t2 & 29 & 711\\\\\n",
       "\t3 & 28 & 475\\\\\n",
       "\t4 & 27 & 338\\\\\n",
       "\t5 & 26 & 586\\\\\n",
       "\t6 & 25 & 463\\\\\n",
       "\\end{tabular}\n"
      ],
      "text/plain": [
       "  id nobs\n",
       "1 30  932\n",
       "2 29  711\n",
       "3 28  475\n",
       "4 27  338\n",
       "5 26  586\n",
       "6 25  463"
      ]
     },
     "execution_count": 10,
     "metadata": {},
     "output_type": "execute_result"
    },
    {
     "data": {
      "text/html": [
       "<table>\n",
       "<thead><tr><th></th><th scope=col>id</th><th scope=col>nobs</th></tr></thead>\n",
       "<tbody>\n",
       "\t<tr><th scope=row>1</th><td>3</td><td>243</td></tr>\n",
       "</tbody>\n",
       "</table>\n"
      ],
      "text/latex": [
       "\\begin{tabular}{r|ll}\n",
       "  & id & nobs\\\\\n",
       "\\hline\n",
       "\t1 & 3 & 243\\\\\n",
       "\\end{tabular}\n"
      ],
      "text/plain": [
       "  id nobs\n",
       "1  3  243"
      ]
     },
     "execution_count": 10,
     "metadata": {},
     "output_type": "execute_result"
    }
   ],
   "source": [
    "complete(\"specdata\", 1)\n",
    "complete(\"specdata\", c(2, 4, 8, 10, 12))\n",
    "complete(\"specdata\", 30:25)\n",
    "complete(\"specdata\", 3)"
   ]
  },
  {
   "cell_type": "markdown",
   "metadata": {},
   "source": [
    "#### Write a function that takes a directory of data files and a threshold for complete cases and calculates the correlation between sulfate and nitrate for monitor locations where the number of completely observed cases (on all variables) is greater than the threshold. The function should return a vector of correlations for the monitors that meet the threshold requirement. If no monitors meet the threshold requirement, then the function should return a numeric vector of length 0. A prototype of this function follows"
   ]
  },
  {
   "cell_type": "code",
   "execution_count": 13,
   "metadata": {
    "collapsed": true
   },
   "outputs": [],
   "source": [
    "corr <- function(directory, threshold = 0) {\n",
    "  # to store the result\n",
    "  result <- vector()\n",
    "  # another way to parse loop through the files\n",
    "  #files <- list.files(directory, full.names = TRUE)\n",
    "  \n",
    "  # get the id and complete case count of rows to compare with threshold\n",
    "  all_data <- complete(\"specdata\")\n",
    "  \n",
    "  # get id's which are greater than given threshold\n",
    "  get_id <- all_data$id[all_data$nobs > threshold]\n",
    "  \n",
    "  # make file name 3 digits\n",
    "  get_id <- formatC(get_id, width = 3, flag = \"0\")\n",
    "  i <- 1 # to store result vector from index 1\n",
    "  for(id in get_id) {\n",
    "    new_dir <- paste(getwd(), \"/\", directory, \"/\", id, \".csv\", sep = \"\")\n",
    "    x <- read.csv(new_dir)\n",
    "    result[i] <- cor(x$sulfate, x$nitrate,  use=\"complete.obs\", method = \"pearson\")\n",
    "    i <- i + 1\n",
    "  }\n",
    "  result\n",
    "}"
   ]
  },
  {
   "cell_type": "code",
   "execution_count": 14,
   "metadata": {
    "collapsed": false
   },
   "outputs": [
    {
     "data": {
      "text/html": [
       "<ol class=list-inline>\n",
       "\t<li>-0.0189575409702549</li>\n",
       "\t<li>-0.140512544015892</li>\n",
       "\t<li>-0.0438973721387846</li>\n",
       "\t<li>-0.0681595622977732</li>\n",
       "\t<li>-0.123506665841487</li>\n",
       "\t<li>-0.0758881442189889</li>\n",
       "</ol>\n"
      ],
      "text/latex": [
       "\\begin{enumerate*}\n",
       "\\item -0.0189575409702549\n",
       "\\item -0.140512544015892\n",
       "\\item -0.0438973721387846\n",
       "\\item -0.0681595622977732\n",
       "\\item -0.123506665841487\n",
       "\\item -0.0758881442189889\n",
       "\\end{enumerate*}\n"
      ],
      "text/markdown": [
       "1. -0.0189575409702549\n",
       "2. -0.140512544015892\n",
       "3. -0.0438973721387846\n",
       "4. -0.0681595622977732\n",
       "5. -0.123506665841487\n",
       "6. -0.0758881442189889\n",
       "\n",
       "\n"
      ],
      "text/plain": [
       "[1] -0.01895754 -0.14051254 -0.04389737 -0.06815956 -0.12350667 -0.07588814"
      ]
     },
     "execution_count": 14,
     "metadata": {},
     "output_type": "execute_result"
    },
    {
     "data": {
      "text/plain": [
       "    Min.  1st Qu.   Median     Mean  3rd Qu.     Max. \n",
       "-0.21060 -0.04999  0.09463  0.12530  0.26840  0.76310 "
      ]
     },
     "execution_count": 14,
     "metadata": {},
     "output_type": "execute_result"
    },
    {
     "data": {
      "text/html": [
       "<ol class=list-inline>\n",
       "\t<li>-0.0189575409702549</li>\n",
       "\t<li>-0.0438973721387846</li>\n",
       "\t<li>-0.0681595622977732</li>\n",
       "\t<li>-0.0758881442189889</li>\n",
       "\t<li>0.763128837036294</li>\n",
       "\t<li>-0.157828603403922</li>\n",
       "</ol>\n"
      ],
      "text/latex": [
       "\\begin{enumerate*}\n",
       "\\item -0.0189575409702549\n",
       "\\item -0.0438973721387846\n",
       "\\item -0.0681595622977732\n",
       "\\item -0.0758881442189889\n",
       "\\item 0.763128837036294\n",
       "\\item -0.157828603403922\n",
       "\\end{enumerate*}\n"
      ],
      "text/markdown": [
       "1. -0.0189575409702549\n",
       "2. -0.0438973721387846\n",
       "3. -0.0681595622977732\n",
       "4. -0.0758881442189889\n",
       "5. 0.763128837036294\n",
       "6. -0.157828603403922\n",
       "\n",
       "\n"
      ],
      "text/plain": [
       "[1] -0.01895754 -0.04389737 -0.06815956 -0.07588814  0.76312884 -0.15782860"
      ]
     },
     "execution_count": 14,
     "metadata": {},
     "output_type": "execute_result"
    },
    {
     "data": {
      "text/plain": [
       "    Min.  1st Qu.   Median     Mean  3rd Qu.     Max. \n",
       "-0.17620 -0.03109  0.10020  0.13970  0.26850  0.76310 "
      ]
     },
     "execution_count": 14,
     "metadata": {},
     "output_type": "execute_result"
    },
    {
     "name": "stderr",
     "output_type": "stream",
     "text": [
      "Warning message:\n",
      "In file(file, \"rt\"): cannot open file 'C:/Users/Sid/Documents/R Conda/specdata/.csv': No such file or directory"
     ]
    },
    {
     "ename": "ERROR",
     "evalue": "Error in file(file, \"rt\"): cannot open the connection\n",
     "output_type": "error",
     "traceback": [
      "Error in file(file, \"rt\"): cannot open the connection\n"
     ]
    },
    {
     "data": {
      "text/plain": [
       "    Min.  1st Qu.   Median     Mean  3rd Qu.     Max. \n",
       "-0.17620 -0.03109  0.10020  0.13970  0.26850  0.76310 "
      ]
     },
     "execution_count": 14,
     "metadata": {},
     "output_type": "execute_result"
    },
    {
     "data": {
      "text/html": [
       "127"
      ],
      "text/latex": [
       "127"
      ],
      "text/markdown": [
       "127"
      ],
      "text/plain": [
       "[1] 127"
      ]
     },
     "execution_count": 14,
     "metadata": {},
     "output_type": "execute_result"
    },
    {
     "data": {
      "text/plain": [
       "    Min.  1st Qu.   Median     Mean  3rd Qu.     Max. \n",
       "-1.00000 -0.05282  0.10720  0.13680  0.27830  1.00000 "
      ]
     },
     "execution_count": 14,
     "metadata": {},
     "output_type": "execute_result"
    },
    {
     "data": {
      "text/html": [
       "323"
      ],
      "text/latex": [
       "323"
      ],
      "text/markdown": [
       "323"
      ],
      "text/plain": [
       "[1] 323"
      ]
     },
     "execution_count": 14,
     "metadata": {},
     "output_type": "execute_result"
    }
   ],
   "source": [
    "cr <- corr(\"specdata\", 150)\n",
    "head(cr)\n",
    "summary(cr)\n",
    "\n",
    "cr <- corr(\"specdata\", 400)\n",
    "head(cr)\n",
    "summary(cr)\n",
    "\n",
    "cr <- corr(\"specdata\", 5000)\n",
    "summary(cr)\n",
    "length(cr)\n",
    "\n",
    "cr <- corr(\"specdata\")\n",
    "summary(cr)\n",
    "length(cr)"
   ]
  },
  {
   "cell_type": "code",
   "execution_count": null,
   "metadata": {
    "collapsed": true
   },
   "outputs": [],
   "source": []
  }
 ],
 "metadata": {
  "kernelspec": {
   "display_name": "R",
   "language": "R",
   "name": "ir"
  },
  "language_info": {
   "codemirror_mode": "r",
   "file_extension": ".r",
   "mimetype": "text/x-r-source",
   "name": "R",
   "pygments_lexer": "r",
   "version": "3.1.3"
  }
 },
 "nbformat": 4,
 "nbformat_minor": 0
}
