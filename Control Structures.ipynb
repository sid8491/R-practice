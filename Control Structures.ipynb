{
 "cells": [
  {
   "cell_type": "code",
   "execution_count": 1,
   "metadata": {
    "collapsed": false
   },
   "outputs": [
    {
     "name": "stdout",
     "output_type": "stream",
     "text": [
      "[1] 1\n",
      "[1] 2\n",
      "[1] 3\n",
      "[1] 4\n",
      "[1] 5\n",
      "[1] 6\n",
      "[1] 7\n",
      "[1] 8\n",
      "[1] 9\n",
      "[1] 10\n"
     ]
    }
   ],
   "source": [
    "for (i in 1:10) {\n",
    "    print(i)\n",
    "}"
   ]
  },
  {
   "cell_type": "code",
   "execution_count": 1,
   "metadata": {
    "collapsed": false
   },
   "outputs": [
    {
     "data": {
      "text/html": [
       "<ol class=list-inline>\n",
       "\t<li>\".GlobalEnv\"</li>\n",
       "\t<li>\"package:stats\"</li>\n",
       "\t<li>\"package:graphics\"</li>\n",
       "\t<li>\"package:grDevices\"</li>\n",
       "\t<li>\"package:utils\"</li>\n",
       "\t<li>\"package:datasets\"</li>\n",
       "\t<li>\"package:methods\"</li>\n",
       "\t<li>\"Autoloads\"</li>\n",
       "\t<li>\"package:base\"</li>\n",
       "</ol>\n"
      ],
      "text/latex": [
       "\\begin{enumerate*}\n",
       "\\item \".GlobalEnv\"\n",
       "\\item \"package:stats\"\n",
       "\\item \"package:graphics\"\n",
       "\\item \"package:grDevices\"\n",
       "\\item \"package:utils\"\n",
       "\\item \"package:datasets\"\n",
       "\\item \"package:methods\"\n",
       "\\item \"Autoloads\"\n",
       "\\item \"package:base\"\n",
       "\\end{enumerate*}\n"
      ],
      "text/markdown": [
       "1. \".GlobalEnv\"\n",
       "2. \"package:stats\"\n",
       "3. \"package:graphics\"\n",
       "4. \"package:grDevices\"\n",
       "5. \"package:utils\"\n",
       "6. \"package:datasets\"\n",
       "7. \"package:methods\"\n",
       "8. \"Autoloads\"\n",
       "9. \"package:base\"\n",
       "\n",
       "\n"
      ],
      "text/plain": [
       "[1] \".GlobalEnv\"        \"package:stats\"     \"package:graphics\" \n",
       "[4] \"package:grDevices\" \"package:utils\"     \"package:datasets\" \n",
       "[7] \"package:methods\"   \"Autoloads\"         \"package:base\"     "
      ]
     },
     "execution_count": 1,
     "metadata": {},
     "output_type": "execute_result"
    }
   ],
   "source": [
    "search()"
   ]
  },
  {
   "cell_type": "code",
   "execution_count": null,
   "metadata": {
    "collapsed": true
   },
   "outputs": [],
   "source": []
  }
 ],
 "metadata": {
  "kernelspec": {
   "display_name": "R",
   "language": "R",
   "name": "ir"
  },
  "language_info": {
   "codemirror_mode": "r",
   "file_extension": ".r",
   "mimetype": "text/x-r-source",
   "name": "R",
   "pygments_lexer": "r",
   "version": "3.1.3"
  }
 },
 "nbformat": 4,
 "nbformat_minor": 0
}
