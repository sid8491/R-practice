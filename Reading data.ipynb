{
 "cells": [
  {
   "cell_type": "markdown",
   "metadata": {},
   "source": [
    "## MySQL"
   ]
  },
  {
   "cell_type": "code",
   "execution_count": 58,
   "metadata": {
    "collapsed": false
   },
   "outputs": [
    {
     "data": {
      "text/html": [
       "205"
      ],
      "text/latex": [
       "205"
      ],
      "text/markdown": [
       "205"
      ],
      "text/plain": [
       "[1] 205"
      ]
     },
     "execution_count": 58,
     "metadata": {},
     "output_type": "execute_result"
    }
   ],
   "source": [
    "ucscDb <- dbConnect(MySQL(), user=\"genome\", host=\"genome-mysql.cse.ucsc.edu\")\n",
    "result <- dbGetQuery(ucscDb, \"show databases;\");\n",
    "#dbDisconnect(ucscDb);\n",
    "nrow(result)"
   ]
  },
  {
   "cell_type": "code",
   "execution_count": 59,
   "metadata": {
    "collapsed": false
   },
   "outputs": [
    {
     "data": {
      "text/html": [
       "\"MySQLConnection\""
      ],
      "text/latex": [
       "\"MySQLConnection\""
      ],
      "text/markdown": [
       "\"MySQLConnection\""
      ],
      "text/plain": [
       "[1] \"MySQLConnection\"\n",
       "attr(,\"package\")\n",
       "[1] \"RMySQL\""
      ]
     },
     "execution_count": 59,
     "metadata": {},
     "output_type": "execute_result"
    },
    {
     "data": {
      "text/html": [
       "11025"
      ],
      "text/latex": [
       "11025"
      ],
      "text/markdown": [
       "11025"
      ],
      "text/plain": [
       "[1] 11025"
      ]
     },
     "execution_count": 59,
     "metadata": {},
     "output_type": "execute_result"
    },
    {
     "data": {
      "text/html": [
       "<ol class=list-inline>\n",
       "\t<li>\"HInv\"</li>\n",
       "\t<li>\"HInvGeneMrna\"</li>\n",
       "\t<li>\"acembly\"</li>\n",
       "\t<li>\"acemblyClass\"</li>\n",
       "\t<li>\"acemblyPep\"</li>\n",
       "</ol>\n"
      ],
      "text/latex": [
       "\\begin{enumerate*}\n",
       "\\item \"HInv\"\n",
       "\\item \"HInvGeneMrna\"\n",
       "\\item \"acembly\"\n",
       "\\item \"acemblyClass\"\n",
       "\\item \"acemblyPep\"\n",
       "\\end{enumerate*}\n"
      ],
      "text/markdown": [
       "1. \"HInv\"\n",
       "2. \"HInvGeneMrna\"\n",
       "3. \"acembly\"\n",
       "4. \"acemblyClass\"\n",
       "5. \"acemblyPep\"\n",
       "\n",
       "\n"
      ],
      "text/plain": [
       "[1] \"HInv\"         \"HInvGeneMrna\" \"acembly\"      \"acemblyClass\" \"acemblyPep\"  "
      ]
     },
     "execution_count": 59,
     "metadata": {},
     "output_type": "execute_result"
    },
    {
     "data": {
      "text/html": [
       "TRUE"
      ],
      "text/latex": [
       "TRUE"
      ],
      "text/markdown": [
       "TRUE"
      ],
      "text/plain": [
       "[1] TRUE"
      ]
     },
     "execution_count": 59,
     "metadata": {},
     "output_type": "execute_result"
    }
   ],
   "source": [
    "hg19 <- dbConnect(MySQL(), user=\"genome\", db=\"hg19\", host=\"genome-mysql.cse.ucsc.edu\")\n",
    "class(hg19)\n",
    "allTables <- dbListTables(hg19)\n",
    "length(allTables)\n",
    "allTables[1:5]\n",
    "dbDisconnect(hg19)"
   ]
  },
  {
   "cell_type": "code",
   "execution_count": 60,
   "metadata": {
    "collapsed": false
   },
   "outputs": [
    {
     "ename": "ERROR",
     "evalue": "Error in .local(dbObj, ...): internal error in RS_DBI_getConnection: corrupt connection handle\n",
     "output_type": "error",
     "traceback": [
      "Error in .local(dbObj, ...): internal error in RS_DBI_getConnection: corrupt connection handle\n"
     ]
    },
    {
     "ename": "ERROR",
     "evalue": "Error in .local(dbObj, ...): internal error in RS_DBI_getConnection: corrupt connection handle\n",
     "output_type": "error",
     "traceback": [
      "Error in .local(dbObj, ...): internal error in RS_DBI_getConnection: corrupt connection handle\n"
     ]
    },
    {
     "ename": "ERROR",
     "evalue": "Error in .local(dbObj, ...): internal error in RS_DBI_getConnection: corrupt connection handle\n",
     "output_type": "error",
     "traceback": [
      "Error in .local(dbObj, ...): internal error in RS_DBI_getConnection: corrupt connection handle\n"
     ]
    },
    {
     "ename": "ERROR",
     "evalue": "Error in head(affyData): object 'affyData' not found\n",
     "output_type": "error",
     "traceback": [
      "Error in head(affyData): object 'affyData' not found\n"
     ]
    },
    {
     "ename": "ERROR",
     "evalue": "Error in .local(dbObj, ...): internal error in RS_DBI_getConnection: corrupt connection handle\n",
     "output_type": "error",
     "traceback": [
      "Error in .local(dbObj, ...): internal error in RS_DBI_getConnection: corrupt connection handle\n"
     ]
    },
    {
     "ename": "ERROR",
     "evalue": "Error in mysqlFetch(res, n = 0, ...): INTEGER() can only be applied to a 'integer', not a 'character'\n",
     "output_type": "error",
     "traceback": [
      "Error in mysqlFetch(res, n = 0, ...): INTEGER() can only be applied to a 'integer', not a 'character'\n"
     ]
    },
    {
     "ename": "ERROR",
     "evalue": "Error in quantile(affyMiss$misMatches): object 'affyMiss' not found\n",
     "output_type": "error",
     "traceback": [
      "Error in quantile(affyMiss$misMatches): object 'affyMiss' not found\n"
     ]
    },
    {
     "ename": "ERROR",
     "evalue": "Error in is(object, Cl): INTEGER() can only be applied to a 'integer', not a 'character'\n",
     "output_type": "error",
     "traceback": [
      "Error in is(object, Cl): INTEGER() can only be applied to a 'integer', not a 'character'\n"
     ]
    },
    {
     "ename": "ERROR",
     "evalue": "Error in .local(dbObj, ...): INTEGER() can only be applied to a 'integer', not a 'character'\n",
     "output_type": "error",
     "traceback": [
      "Error in .local(dbObj, ...): INTEGER() can only be applied to a 'integer', not a 'character'\n"
     ]
    },
    {
     "ename": "ERROR",
     "evalue": "Error in .local(dbObj, ...): internal error in RS_DBI_getConnection: corrupt connection handle\n",
     "output_type": "error",
     "traceback": [
      "Error in .local(dbObj, ...): internal error in RS_DBI_getConnection: corrupt connection handle\n"
     ]
    }
   ],
   "source": [
    "dbListFields(hg19, \"affyU133Plus2\")\n",
    "dbGetQuery(hg19, \"select count(*) from affyU133Plus2\")\n",
    "\n",
    "# not working dont know why\n",
    "affyData <- dbReadTable(hg19, \"affyU133Plus2\")\n",
    "head(affyData)\n",
    "query <- dbSendQuery(hg19, \"select * from affyU133Plus2 where misMatches between 1 and 3\")\n",
    "affyMiss <- fetch(query); quantile(affyMiss$misMatches)\n",
    "\n",
    "# selecting top 10 rows\n",
    "affyMisSmall <- fetch(query, n=10); dbClearResult(query); # clearing query \n",
    "dbDisconnect(hg19)"
   ]
  },
  {
   "cell_type": "code",
   "execution_count": 61,
   "metadata": {
    "collapsed": false
   },
   "outputs": [
    {
     "ename": "ERROR",
     "evalue": "Error in .local(dbObj, ...): internal error in RS_DBI_getConnection: corrupt connection handle\n",
     "output_type": "error",
     "traceback": [
      "Error in .local(dbObj, ...): internal error in RS_DBI_getConnection: corrupt connection handle\n"
     ]
    }
   ],
   "source": [
    "dbDisconnect(hg19)"
   ]
  },
  {
   "cell_type": "markdown",
   "metadata": {},
   "source": [
    "## HDF5"
   ]
  },
  {
   "cell_type": "code",
   "execution_count": 62,
   "metadata": {
    "collapsed": false
   },
   "outputs": [
    {
     "name": "stdout",
     "output_type": "stream",
     "text": [
      "\n",
      "The downloaded binary packages are in\n",
      "\tC:\\Users\\Sid\\AppData\\Local\\Temp\\RtmpCi2VK7\\downloaded_packages\n"
     ]
    },
    {
     "name": "stderr",
     "output_type": "stream",
     "text": [
      "Bioconductor version 3.0 (BiocInstaller 1.16.5), ?biocLite for help\n",
      "A new version of Bioconductor is available after installing the most recent\n",
      "  version of R; see http://bioconductor.org/install\n",
      "BioC_mirror: http://bioconductor.org\n",
      "Using Bioconductor version 3.0 (BiocInstaller 1.16.5), R version 3.1.3.\n",
      "Installing package(s) 'rhdf5'\n",
      "also installing the dependency 'zlibbioc'\n",
      "\n"
     ]
    },
    {
     "name": "stdout",
     "output_type": "stream",
     "text": [
      "package 'zlibbioc' successfully unpacked and MD5 sums checked\n",
      "package 'rhdf5' successfully unpacked and MD5 sums checked\n",
      "\n",
      "The downloaded binary packages are in\n",
      "\tC:\\Users\\Sid\\AppData\\Local\\Temp\\RtmpCi2VK7\\downloaded_packages\n"
     ]
    },
    {
     "name": "stderr",
     "output_type": "stream",
     "text": [
      "Old packages: 'base64enc', 'BH', 'boot', 'car', 'caret', 'chron', 'class',\n",
      "  'cluster', 'codetools', 'colorspace', 'data.table', 'digest', 'dplyr',\n",
      "  'evaluate', 'foreach', 'foreign', 'formatR', 'ggplot2', 'gtools', 'hexbin',\n",
      "  'highr', 'htmltools', 'httpuv', 'iterators', 'jsonlite', 'KernSmooth',\n",
      "  'knitr', 'lattice', 'lme4', 'maps', 'MASS', 'Matrix', 'mgcv', 'mime', 'nlme',\n",
      "  'nnet', 'pbkrtest', 'plyr', 'quantreg', 'R6', 'randomForest', 'Rcpp',\n",
      "  'RcppEigen', 'rmarkdown', 'rpart', 'scales', 'shiny', 'SparseM', 'spatial',\n",
      "  'stringi', 'stringr', 'survival', 'tidyr', 'uuid', 'xtable', 'zoo'\n"
     ]
    }
   ],
   "source": [
    "#source(\"http://bioconductor.org/biocLite.R\")\n",
    "#biocLite(\"rhdf5\")"
   ]
  },
  {
   "cell_type": "code",
   "execution_count": 63,
   "metadata": {
    "collapsed": true
   },
   "outputs": [],
   "source": [
    "library(rhdf5)"
   ]
  },
  {
   "cell_type": "code",
   "execution_count": 64,
   "metadata": {
    "collapsed": false
   },
   "outputs": [
    {
     "data": {
      "text/html": [
       "TRUE"
      ],
      "text/latex": [
       "TRUE"
      ],
      "text/markdown": [
       "TRUE"
      ],
      "text/plain": [
       "[1] TRUE"
      ]
     },
     "execution_count": 64,
     "metadata": {},
     "output_type": "execute_result"
    }
   ],
   "source": [
    "#created = h5createFile(\"example.h5\")\n",
    "#created"
   ]
  },
  {
   "cell_type": "code",
   "execution_count": 73,
   "metadata": {
    "collapsed": false
   },
   "outputs": [
    {
     "data": {
      "text/html": [
       "<table>\n",
       "<thead><tr><th></th><th scope=col>group</th><th scope=col>name</th><th scope=col>otype</th><th scope=col>dclass</th><th scope=col>dim</th></tr></thead>\n",
       "<tbody>\n",
       "\t<tr><th scope=row>0</th><td>/</td><td>baa</td><td>H5I_GROUP</td><td></td><td></td></tr>\n",
       "\t<tr><th scope=row>1</th><td>/</td><td>foo</td><td>H5I_GROUP</td><td></td><td></td></tr>\n",
       "\t<tr><th scope=row>2</th><td>/foo</td><td>foobaa</td><td>H5I_GROUP</td><td></td><td></td></tr>\n",
       "</tbody>\n",
       "</table>\n"
      ],
      "text/latex": [
       "\\begin{tabular}{r|lllll}\n",
       "  & group & name & otype & dclass & dim\\\\\n",
       "\\hline\n",
       "\t0 & / & baa & H5I_GROUP &  & \\\\\n",
       "\t1 & / & foo & H5I_GROUP &  & \\\\\n",
       "\t2 & /foo & foobaa & H5I_GROUP &  & \\\\\n",
       "\\end{tabular}\n"
      ],
      "text/plain": [
       "  group   name     otype dclass dim\n",
       "0     /    baa H5I_GROUP           \n",
       "1     /    foo H5I_GROUP           \n",
       "2  /foo foobaa H5I_GROUP           "
      ]
     },
     "execution_count": 73,
     "metadata": {},
     "output_type": "execute_result"
    }
   ],
   "source": [
    "created = h5createGroup(\"example.h5\", \"foo\")\n",
    "created = h5createGroup(\"example.h5\", \"baa\")\n",
    "created = h5createGroup(\"example.h5\", \"foo/foobaa\")\n",
    "h5ls(\"example.h5\")"
   ]
  },
  {
   "cell_type": "code",
   "execution_count": 74,
   "metadata": {
    "collapsed": false
   },
   "outputs": [
    {
     "data": {
      "text/html": [
       "<table>\n",
       "<thead><tr><th></th><th scope=col>group</th><th scope=col>name</th><th scope=col>otype</th><th scope=col>dclass</th><th scope=col>dim</th></tr></thead>\n",
       "<tbody>\n",
       "\t<tr><th scope=row>0</th><td>/</td><td>baa</td><td>H5I_GROUP</td><td></td><td></td></tr>\n",
       "\t<tr><th scope=row>1</th><td>/</td><td>foo</td><td>H5I_GROUP</td><td></td><td></td></tr>\n",
       "\t<tr><th scope=row>2</th><td>/foo</td><td>A</td><td>H5I_DATASET</td><td>INTEGER</td><td>5 x 2</td></tr>\n",
       "\t<tr><th scope=row>3</th><td>/foo</td><td>foobaa</td><td>H5I_GROUP</td><td></td><td></td></tr>\n",
       "\t<tr><th scope=row>4</th><td>/foo/foobaa</td><td>B</td><td>H5I_DATASET</td><td>FLOAT</td><td>5 x 2 x 2</td></tr>\n",
       "</tbody>\n",
       "</table>\n"
      ],
      "text/latex": [
       "\\begin{tabular}{r|lllll}\n",
       "  & group & name & otype & dclass & dim\\\\\n",
       "\\hline\n",
       "\t0 & / & baa & H5I_GROUP &  & \\\\\n",
       "\t1 & / & foo & H5I_GROUP &  & \\\\\n",
       "\t2 & /foo & A & H5I_DATASET & INTEGER & 5 x 2\\\\\n",
       "\t3 & /foo & foobaa & H5I_GROUP &  & \\\\\n",
       "\t4 & /foo/foobaa & B & H5I_DATASET & FLOAT & 5 x 2 x 2\\\\\n",
       "\\end{tabular}\n"
      ],
      "text/plain": [
       "        group   name       otype  dclass       dim\n",
       "0           /    baa   H5I_GROUP                  \n",
       "1           /    foo   H5I_GROUP                  \n",
       "2        /foo      A H5I_DATASET INTEGER     5 x 2\n",
       "3        /foo foobaa   H5I_GROUP                  \n",
       "4 /foo/foobaa      B H5I_DATASET   FLOAT 5 x 2 x 2"
      ]
     },
     "execution_count": 74,
     "metadata": {},
     "output_type": "execute_result"
    }
   ],
   "source": [
    "A <- matrix(1:10, nr = 5, nc = 2)\n",
    "h5write(A, \"example.h5\", \"foo/A\")\n",
    "B = array(seq(0.1, 2, by = 0.1), dim = c(5, 2, 2))\n",
    "attr(B, \"scale\") <- \"liter\"\n",
    "h5write(B, \"example.h5\", \"foo/foobaa/B\")\n",
    "h5ls(\"example.h5\")"
   ]
  },
  {
   "cell_type": "code",
   "execution_count": 75,
   "metadata": {
    "collapsed": false
   },
   "outputs": [
    {
     "data": {
      "text/html": [
       "<table>\n",
       "<thead><tr><th></th><th scope=col>group</th><th scope=col>name</th><th scope=col>otype</th><th scope=col>dclass</th><th scope=col>dim</th></tr></thead>\n",
       "<tbody>\n",
       "\t<tr><th scope=row>0</th><td>/</td><td>baa</td><td>H5I_GROUP</td><td></td><td></td></tr>\n",
       "\t<tr><th scope=row>1</th><td>/</td><td>df</td><td>H5I_DATASET</td><td>COMPOUND</td><td>5</td></tr>\n",
       "\t<tr><th scope=row>2</th><td>/</td><td>foo</td><td>H5I_GROUP</td><td></td><td></td></tr>\n",
       "\t<tr><th scope=row>3</th><td>/foo</td><td>A</td><td>H5I_DATASET</td><td>INTEGER</td><td>5 x 2</td></tr>\n",
       "\t<tr><th scope=row>4</th><td>/foo</td><td>foobaa</td><td>H5I_GROUP</td><td></td><td></td></tr>\n",
       "\t<tr><th scope=row>5</th><td>/foo/foobaa</td><td>B</td><td>H5I_DATASET</td><td>FLOAT</td><td>5 x 2 x 2</td></tr>\n",
       "</tbody>\n",
       "</table>\n"
      ],
      "text/latex": [
       "\\begin{tabular}{r|lllll}\n",
       "  & group & name & otype & dclass & dim\\\\\n",
       "\\hline\n",
       "\t0 & / & baa & H5I_GROUP &  & \\\\\n",
       "\t1 & / & df & H5I_DATASET & COMPOUND & 5\\\\\n",
       "\t2 & / & foo & H5I_GROUP &  & \\\\\n",
       "\t3 & /foo & A & H5I_DATASET & INTEGER & 5 x 2\\\\\n",
       "\t4 & /foo & foobaa & H5I_GROUP &  & \\\\\n",
       "\t5 & /foo/foobaa & B & H5I_DATASET & FLOAT & 5 x 2 x 2\\\\\n",
       "\\end{tabular}\n"
      ],
      "text/plain": [
       "        group   name       otype   dclass       dim\n",
       "0           /    baa   H5I_GROUP                   \n",
       "1           /     df H5I_DATASET COMPOUND         5\n",
       "2           /    foo   H5I_GROUP                   \n",
       "3        /foo      A H5I_DATASET  INTEGER     5 x 2\n",
       "4        /foo foobaa   H5I_GROUP                   \n",
       "5 /foo/foobaa      B H5I_DATASET    FLOAT 5 x 2 x 2"
      ]
     },
     "execution_count": 75,
     "metadata": {},
     "output_type": "execute_result"
    }
   ],
   "source": [
    "# The following example creates a data frame and writes it to the top of the HDF5 file's hierarchy, using the name “df”.\n",
    "\n",
    "df = data.frame(1L:5L, seq(0, 1, length.out = 5), c(\"ab\", \"cde\", \"fghi\", \"a\", \n",
    "    \"s\"), stringsAsFactors = F)\n",
    "h5write(df, \"example.h5\", \"df\")\n",
    "h5ls(\"example.h5\")\n"
   ]
  },
  {
   "cell_type": "code",
   "execution_count": 76,
   "metadata": {
    "collapsed": false
   },
   "outputs": [
    {
     "data": {
      "text/html": [
       "<table>\n",
       "<tbody>\n",
       "\t<tr><td>1</td><td>6</td></tr>\n",
       "\t<tr><td>2</td><td>7</td></tr>\n",
       "\t<tr><td>3</td><td>8</td></tr>\n",
       "\t<tr><td>4</td><td>9</td></tr>\n",
       "\t<tr><td> 5</td><td>10</td></tr>\n",
       "</tbody>\n",
       "</table>\n"
      ],
      "text/latex": [
       "\\begin{tabular}{ll}\n",
       "\t 1 & 6\\\\\n",
       "\t 2 & 7\\\\\n",
       "\t 3 & 8\\\\\n",
       "\t 4 & 9\\\\\n",
       "\t  5 & 10\\\\\n",
       "\\end{tabular}\n"
      ],
      "text/markdown": [
       "1. 1\n",
       "2. 2\n",
       "3. 3\n",
       "4. 4\n",
       "5. 5\n",
       "6. 6\n",
       "7. 7\n",
       "8. 8\n",
       "9. 9\n",
       "10. 10\n",
       "\n",
       "\n"
      ],
      "text/plain": [
       "     [,1] [,2]\n",
       "[1,]    1    6\n",
       "[2,]    2    7\n",
       "[3,]    3    8\n",
       "[4,]    4    9\n",
       "[5,]    5   10"
      ]
     },
     "execution_count": 76,
     "metadata": {},
     "output_type": "execute_result"
    }
   ],
   "source": [
    "readA = h5read(\"example.h5\", \"foo/A\")\n",
    "readB = h5read(\"example.h5\", \"foo/foobaa/B\")\n",
    "readdf = h5read(\"example.h5\", \"df\")\n",
    "readA"
   ]
  },
  {
   "cell_type": "code",
   "execution_count": 77,
   "metadata": {
    "collapsed": false
   },
   "outputs": [
    {
     "data": {
      "text/html": [
       "\"list\""
      ],
      "text/latex": [
       "\"list\""
      ],
      "text/markdown": [
       "\"list\""
      ],
      "text/plain": [
       "[1] \"list\""
      ]
     },
     "execution_count": 77,
     "metadata": {},
     "output_type": "execute_result"
    },
    {
     "data": {
      "text/html": [
       "<ol class=list-inline>\n",
       "\t<li>\"A\"</li>\n",
       "\t<li>\"foobaa\"</li>\n",
       "</ol>\n"
      ],
      "text/latex": [
       "\\begin{enumerate*}\n",
       "\\item \"A\"\n",
       "\\item \"foobaa\"\n",
       "\\end{enumerate*}\n"
      ],
      "text/markdown": [
       "1. \"A\"\n",
       "2. \"foobaa\"\n",
       "\n",
       "\n"
      ],
      "text/plain": [
       "[1] \"A\"      \"foobaa\""
      ]
     },
     "execution_count": 77,
     "metadata": {},
     "output_type": "execute_result"
    },
    {
     "data": {
      "text/html": [
       "\"list\""
      ],
      "text/latex": [
       "\"list\""
      ],
      "text/markdown": [
       "\"list\""
      ],
      "text/plain": [
       "[1] \"list\""
      ]
     },
     "execution_count": 77,
     "metadata": {},
     "output_type": "execute_result"
    }
   ],
   "source": [
    "foo = h5read(\"example.h5\", \"foo\")\n",
    "class(foo)\n",
    "names(foo)\n",
    "class(foo$foobaa)"
   ]
  },
  {
   "cell_type": "code",
   "execution_count": 78,
   "metadata": {
    "collapsed": false
   },
   "outputs": [
    {
     "data": {
      "text/html": [
       "<table>\n",
       "<tbody>\n",
       "\t<tr><td>12</td><td> 6</td></tr>\n",
       "\t<tr><td>13</td><td> 7</td></tr>\n",
       "\t<tr><td>14</td><td> 8</td></tr>\n",
       "\t<tr><td>4</td><td>9</td></tr>\n",
       "\t<tr><td> 5</td><td>10</td></tr>\n",
       "</tbody>\n",
       "</table>\n"
      ],
      "text/latex": [
       "\\begin{tabular}{ll}\n",
       "\t 12 &  6\\\\\n",
       "\t 13 &  7\\\\\n",
       "\t 14 &  8\\\\\n",
       "\t 4 & 9\\\\\n",
       "\t  5 & 10\\\\\n",
       "\\end{tabular}\n"
      ],
      "text/markdown": [
       "1. 12\n",
       "2. 13\n",
       "3. 14\n",
       "4. 4\n",
       "5. 5\n",
       "6. 6\n",
       "7. 7\n",
       "8. 8\n",
       "9. 9\n",
       "10. 10\n",
       "\n",
       "\n"
      ],
      "text/plain": [
       "     [,1] [,2]\n",
       "[1,]   12    6\n",
       "[2,]   13    7\n",
       "[3,]   14    8\n",
       "[4,]    4    9\n",
       "[5,]    5   10"
      ]
     },
     "execution_count": 78,
     "metadata": {},
     "output_type": "execute_result"
    }
   ],
   "source": [
    "h5write(c(12, 13, 14), \"example.h5\", \"foo/A\", index = list(1:3, 1))\n",
    "h5read(\"example.h5\", \"foo/A\")"
   ]
  },
  {
   "cell_type": "markdown",
   "metadata": {},
   "source": [
    "## Web"
   ]
  },
  {
   "cell_type": "code",
   "execution_count": 85,
   "metadata": {
    "collapsed": false
   },
   "outputs": [
    {
     "name": "stderr",
     "output_type": "stream",
     "text": [
      "Warning message:\n",
      "In readLines(con): incomplete final line found on 'http://scholar.google.com/citations?user=HI-I6C0AAAAJ&l=en'"
     ]
    },
    {
     "data": {
      "text/html": [
       "\"character\""
      ],
      "text/latex": [
       "\"character\""
      ],
      "text/markdown": [
       "\"character\""
      ],
      "text/plain": [
       "[1] \"character\""
      ]
     },
     "execution_count": 85,
     "metadata": {},
     "output_type": "execute_result"
    },
    {
     "data": {
      "text/html": [
       "1"
      ],
      "text/latex": [
       "1"
      ],
      "text/markdown": [
       "1"
      ],
      "text/plain": [
       "[1] 1"
      ]
     },
     "execution_count": 85,
     "metadata": {},
     "output_type": "execute_result"
    },
    {
     "data": {
      "text/html": [
       "97526"
      ],
      "text/latex": [
       "97526"
      ],
      "text/markdown": [
       "97526"
      ],
      "text/plain": [
       "[1] 97526"
      ]
     },
     "execution_count": 85,
     "metadata": {},
     "output_type": "execute_result"
    }
   ],
   "source": [
    "con <- url(\"http://scholar.google.com/citations?user=HI-I6C0AAAAJ&l=en\")\n",
    "htmlCode <- readLines(con)\n",
    "close(con)\n",
    "#substr(htmlCode, start = 1, stop = 1000)\n",
    "#htmlCode\n",
    "class(htmlCode)\n",
    "length(htmlCode)\n",
    "nchar(htmlCode)"
   ]
  },
  {
   "cell_type": "code",
   "execution_count": 96,
   "metadata": {
    "collapsed": false
   },
   "outputs": [
    {
     "ename": "ERROR",
     "evalue": "Error: failed to load external entity \"http://scholar.google.com/citations?user=HI-I6C0AAAAJ&hl=en\"\n\n",
     "output_type": "error",
     "traceback": [
      "Error: failed to load external entity \"http://scholar.google.com/citations?user=HI-I6C0AAAAJ&hl=en\"\n\n"
     ]
    },
    {
     "data": {
      "text/html": [
       "\"Jeff Leek - Google Scholar Citations\""
      ],
      "text/latex": [
       "\"Jeff Leek - Google Scholar Citations\""
      ],
      "text/markdown": [
       "\"Jeff Leek - Google Scholar Citations\""
      ],
      "text/plain": [
       "[1] \"Jeff Leek - Google Scholar Citations\""
      ]
     },
     "execution_count": 96,
     "metadata": {},
     "output_type": "execute_result"
    },
    {
     "data": {
      "text/html": [
       "<ol>\n",
       "</ol>\n"
      ],
      "text/latex": [
       "\\begin{enumerate}\n",
       "\\end{enumerate}\n"
      ],
      "text/markdown": [
       "\n",
       "\n"
      ],
      "text/plain": [
       "list()"
      ]
     },
     "execution_count": 96,
     "metadata": {},
     "output_type": "execute_result"
    }
   ],
   "source": [
    "#install.packages(\"XML\", repos = \"http://cran.us.r-project.org\")\n",
    "library(XML)\n",
    "url <- \"http://scholar.google.com/citations?user=HI-I6C0AAAAJ&hl=en\"\n",
    "html <- htmlTreeParse(url, useInternalNodes = T)\n",
    "xpathSApply(html, \"//title\", xmlValue)\n",
    "xpathSApply(html, \"//td[@id='col-citedby']\", xmlValue)"
   ]
  },
  {
   "cell_type": "code",
   "execution_count": 97,
   "metadata": {
    "collapsed": false
   },
   "outputs": [
    {
     "data": {
      "text/html": [
       "\"response\""
      ],
      "text/latex": [
       "\"response\""
      ],
      "text/markdown": [
       "\"response\""
      ],
      "text/plain": [
       "[1] \"response\""
      ]
     },
     "execution_count": 97,
     "metadata": {},
     "output_type": "execute_result"
    },
    {
     "data": {
      "text/html": [
       "\"character\""
      ],
      "text/latex": [
       "\"character\""
      ],
      "text/markdown": [
       "\"character\""
      ],
      "text/plain": [
       "[1] \"character\""
      ]
     },
     "execution_count": 97,
     "metadata": {},
     "output_type": "execute_result"
    },
    {
     "data": {
      "text/html": [
       "\"Jeff Leek - Google Scholar Citations\""
      ],
      "text/latex": [
       "\"Jeff Leek - Google Scholar Citations\""
      ],
      "text/markdown": [
       "\"Jeff Leek - Google Scholar Citations\""
      ],
      "text/plain": [
       "[1] \"Jeff Leek - Google Scholar Citations\""
      ]
     },
     "execution_count": 97,
     "metadata": {},
     "output_type": "execute_result"
    }
   ],
   "source": [
    "#install.packages(\"httr\", repos = \"http://cran.us.r-project.org\")\n",
    "#library(httr)\n",
    "html2 = GET(url)\n",
    "class(html2)\n",
    "content2 = content(html2, as = \"text\")\n",
    "class(content2)\n",
    "parsedHtml = htmlParse(content2, asText = TRUE)\n",
    "xpathSApply(parsedHtml, \"//title\", xmlValue)"
   ]
  },
  {
   "cell_type": "code",
   "execution_count": null,
   "metadata": {
    "collapsed": false
   },
   "outputs": [],
   "source": []
  },
  {
   "cell_type": "code",
   "execution_count": null,
   "metadata": {
    "collapsed": true
   },
   "outputs": [],
   "source": []
  }
 ],
 "metadata": {
  "kernelspec": {
   "display_name": "R",
   "language": "R",
   "name": "ir"
  },
  "language_info": {
   "codemirror_mode": "r",
   "file_extension": ".r",
   "mimetype": "text/x-r-source",
   "name": "R",
   "pygments_lexer": "r",
   "version": "3.1.3"
  }
 },
 "nbformat": 4,
 "nbformat_minor": 0
}
